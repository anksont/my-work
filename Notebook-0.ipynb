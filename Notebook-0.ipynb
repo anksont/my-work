{
    "metadata": {
        "kernelspec": {
            "name": "SQL",
            "display_name": "SQL",
            "language": "sql"
        },
        "language_info": {
            "name": "sql",
            "version": ""
        },
        "extensions": {
            "azuredatastudio": {
                "version": 1,
                "views": []
            }
        }
    },
    "nbformat_minor": 2,
    "nbformat": 4,
    "cells": [
        {
            "cell_type": "code",
            "source": [
                "-- Create a new database called 'DatabaseName'\r\n",
                "-- Connect to the 'master' database to run this snippet\r\n",
                "USE master\r\n",
                "GO\r\n",
                "-- Create the new database if it does not exist already\r\n",
                "IF NOT EXISTS (\r\n",
                "    SELECT [name]\r\n",
                "        FROM sys.databases\r\n",
                "        WHERE [name] = N'Learn'\r\n",
                ")\r\n",
                "CREATE DATABASE Learn\r\n",
                "GO"
            ],
            "metadata": {
                "azdata_cell_guid": "8f579d3a-7675-46a3-abe5-ca6926314d05",
                "tags": [
                    "hide_input"
                ]
            },
            "outputs": [
                {
                    "output_type": "display_data",
                    "data": {
                        "text/html": "Commands completed successfully."
                    },
                    "metadata": {}
                },
                {
                    "output_type": "display_data",
                    "data": {
                        "text/html": "Commands completed successfully."
                    },
                    "metadata": {}
                },
                {
                    "output_type": "display_data",
                    "data": {
                        "text/html": "Total execution time: 00:00:00"
                    },
                    "metadata": {}
                }
            ],
            "execution_count": 112
        },
        {
            "cell_type": "code",
            "source": [
                "use Learn"
            ],
            "metadata": {
                "azdata_cell_guid": "101e6708-0faf-4de4-bf8e-cb308bc1ab74"
            },
            "outputs": [
                {
                    "output_type": "display_data",
                    "data": {
                        "text/html": "Commands completed successfully."
                    },
                    "metadata": {}
                },
                {
                    "output_type": "display_data",
                    "data": {
                        "text/html": "Total execution time: 00:00:00.001"
                    },
                    "metadata": {}
                }
            ],
            "execution_count": 113
        },
        {
            "cell_type": "code",
            "source": [
                "SELECT * from INFORMATION_SCHEMA.TABLE_CONSTRAINTS"
            ],
            "metadata": {
                "azdata_cell_guid": "3154b9b1-33de-4021-b9d8-41efb340cb1c"
            },
            "outputs": [
                {
                    "output_type": "display_data",
                    "data": {
                        "text/html": "(1 row affected)"
                    },
                    "metadata": {}
                },
                {
                    "output_type": "display_data",
                    "data": {
                        "text/html": "Total execution time: 00:00:00.009"
                    },
                    "metadata": {}
                },
                {
                    "output_type": "execute_result",
                    "metadata": {},
                    "execution_count": 114,
                    "data": {
                        "application/vnd.dataresource+json": {
                            "schema": {
                                "fields": [
                                    {
                                        "name": "CONSTRAINT_CATALOG"
                                    },
                                    {
                                        "name": "CONSTRAINT_SCHEMA"
                                    },
                                    {
                                        "name": "CONSTRAINT_NAME"
                                    },
                                    {
                                        "name": "TABLE_CATALOG"
                                    },
                                    {
                                        "name": "TABLE_SCHEMA"
                                    },
                                    {
                                        "name": "TABLE_NAME"
                                    },
                                    {
                                        "name": "CONSTRAINT_TYPE"
                                    },
                                    {
                                        "name": "IS_DEFERRABLE"
                                    },
                                    {
                                        "name": "INITIALLY_DEFERRED"
                                    }
                                ]
                            },
                            "data": [
                                {
                                    "0": "Learn",
                                    "1": "dbo",
                                    "2": "PK__TST__3213663BD7D2834A",
                                    "3": "Learn",
                                    "4": "dbo",
                                    "5": "TST",
                                    "6": "PRIMARY KEY",
                                    "7": "NO",
                                    "8": "NO"
                                }
                            ]
                        },
                        "text/html": [
                            "<table>",
                            "<tr><th>CONSTRAINT_CATALOG</th><th>CONSTRAINT_SCHEMA</th><th>CONSTRAINT_NAME</th><th>TABLE_CATALOG</th><th>TABLE_SCHEMA</th><th>TABLE_NAME</th><th>CONSTRAINT_TYPE</th><th>IS_DEFERRABLE</th><th>INITIALLY_DEFERRED</th></tr>",
                            "<tr><td>Learn</td><td>dbo</td><td>PK__TST__3213663BD7D2834A</td><td>Learn</td><td>dbo</td><td>TST</td><td>PRIMARY KEY</td><td>NO</td><td>NO</td></tr>",
                            "</table>"
                        ]
                    }
                }
            ],
            "execution_count": 114
        },
        {
            "cell_type": "code",
            "source": [
                "SELECT Id = 1, [Message] = 'First row'\r\n",
                "UNION ALL\r\n",
                "SELECT 2, 'Second row'\r\n",
                "UNION ALL\r\n",
                "SELECT 3, 'More';"
            ],
            "metadata": {
                "azdata_cell_guid": "b676c7c4-6fe3-4688-8fd8-5404174dc4e8"
            },
            "outputs": [
                {
                    "output_type": "display_data",
                    "data": {
                        "text/html": "(3 rows affected)"
                    },
                    "metadata": {}
                },
                {
                    "output_type": "display_data",
                    "data": {
                        "text/html": "Total execution time: 00:00:00.004"
                    },
                    "metadata": {}
                },
                {
                    "output_type": "execute_result",
                    "metadata": {},
                    "execution_count": 115,
                    "data": {
                        "application/vnd.dataresource+json": {
                            "schema": {
                                "fields": [
                                    {
                                        "name": "Id"
                                    },
                                    {
                                        "name": "Message"
                                    }
                                ]
                            },
                            "data": [
                                {
                                    "0": "1",
                                    "1": "First row"
                                },
                                {
                                    "0": "2",
                                    "1": "Second row"
                                },
                                {
                                    "0": "3",
                                    "1": "More"
                                }
                            ]
                        },
                        "text/html": [
                            "<table>",
                            "<tr><th>Id</th><th>Message</th></tr>",
                            "<tr><td>1</td><td>First row</td></tr>",
                            "<tr><td>2</td><td>Second row</td></tr>",
                            "<tr><td>3</td><td>More</td></tr>",
                            "</table>"
                        ]
                    }
                }
            ],
            "execution_count": 115
        },
        {
            "cell_type": "code",
            "source": [
                "PRINT 'HELLO WORLD';"
            ],
            "metadata": {
                "azdata_cell_guid": "c3779882-030d-449f-a2bd-5e843cd929ec"
            },
            "outputs": [
                {
                    "output_type": "display_data",
                    "data": {
                        "text/html": "HELLO WORLD"
                    },
                    "metadata": {}
                },
                {
                    "output_type": "display_data",
                    "data": {
                        "text/html": "Total execution time: 00:00:00"
                    },
                    "metadata": {}
                }
            ],
            "execution_count": 116
        },
        {
            "cell_type": "code",
            "source": [
                "print @@VERSION"
            ],
            "metadata": {
                "azdata_cell_guid": "240011f6-7f20-473e-9140-352ec01a0a7c"
            },
            "outputs": [
                {
                    "output_type": "display_data",
                    "data": {
                        "text/html": "Microsoft SQL Server 2019 (RTM) - 15.0.2000.5 (X64) \n\tSep 24 2019 13:48:23 \n\tCopyright (C) 2019 Microsoft Corporation\n\tDeveloper Edition (64-bit) on Windows 10 Home Single Language 10.0 <X64> (Build 19042: ) (Hypervisor)\n"
                    },
                    "metadata": {}
                },
                {
                    "output_type": "display_data",
                    "data": {
                        "text/html": "Total execution time: 00:00:00"
                    },
                    "metadata": {}
                }
            ],
            "execution_count": 117
        },
        {
            "cell_type": "code",
            "source": [
                "PRINT @@SERVERNAME\r\n",
                "PRINT @@SERVICENAME\r\n",
                "SELECT serverproperty('ComputerNamePhysicalNetBIOS')"
            ],
            "metadata": {
                "azdata_cell_guid": "bc7b7c64-a15c-4ad5-97f2-c80b1c67b405"
            },
            "outputs": [
                {
                    "output_type": "display_data",
                    "data": {
                        "text/html": "ANKIT"
                    },
                    "metadata": {}
                },
                {
                    "output_type": "display_data",
                    "data": {
                        "text/html": "MSSQLSERVER"
                    },
                    "metadata": {}
                },
                {
                    "output_type": "display_data",
                    "data": {
                        "text/html": "(1 row affected)"
                    },
                    "metadata": {}
                },
                {
                    "output_type": "display_data",
                    "data": {
                        "text/html": "Total execution time: 00:00:00.003"
                    },
                    "metadata": {}
                },
                {
                    "output_type": "execute_result",
                    "metadata": {},
                    "execution_count": 118,
                    "data": {
                        "application/vnd.dataresource+json": {
                            "schema": {
                                "fields": [
                                    {
                                        "name": "(No column name)"
                                    }
                                ]
                            },
                            "data": [
                                {
                                    "0": "ANKIT"
                                }
                            ]
                        },
                        "text/html": [
                            "<table>",
                            "<tr><th>(No column name)</th></tr>",
                            "<tr><td>ANKIT</td></tr>",
                            "</table>"
                        ]
                    }
                }
            ],
            "execution_count": 118
        },
        {
            "cell_type": "code",
            "source": [
                "SELECT * FROM fn_virtualservernodes();"
            ],
            "metadata": {
                "azdata_cell_guid": "a5d65249-9332-4ad6-857f-e0c596f39d06"
            },
            "outputs": [
                {
                    "output_type": "display_data",
                    "data": {
                        "text/html": "(0 rows affected)"
                    },
                    "metadata": {}
                },
                {
                    "output_type": "display_data",
                    "data": {
                        "text/html": "Total execution time: 00:00:00.001"
                    },
                    "metadata": {}
                },
                {
                    "output_type": "execute_result",
                    "metadata": {},
                    "execution_count": 119,
                    "data": {
                        "application/vnd.dataresource+json": {
                            "schema": {
                                "fields": [
                                    {
                                        "name": "NodeName"
                                    },
                                    {
                                        "name": "status"
                                    },
                                    {
                                        "name": "status_description"
                                    },
                                    {
                                        "name": "is_current_owner"
                                    }
                                ]
                            },
                            "data": []
                        },
                        "text/html": [
                            "<table>",
                            "<tr><th>NodeName</th><th>status</th><th>status_description</th><th>is_current_owner</th></tr>",
                            "</table>"
                        ]
                    }
                }
            ],
            "execution_count": 119
        },
        {
            "cell_type": "code",
            "source": [
                "SELECT SYSTEM_USER"
            ],
            "metadata": {
                "azdata_cell_guid": "1da6831d-1c20-4b3e-be34-bbac5b12528b"
            },
            "outputs": [
                {
                    "output_type": "display_data",
                    "data": {
                        "text/html": "(1 row affected)"
                    },
                    "metadata": {}
                },
                {
                    "output_type": "display_data",
                    "data": {
                        "text/html": "Total execution time: 00:00:00.003"
                    },
                    "metadata": {}
                },
                {
                    "output_type": "execute_result",
                    "metadata": {},
                    "execution_count": 120,
                    "data": {
                        "application/vnd.dataresource+json": {
                            "schema": {
                                "fields": [
                                    {
                                        "name": "(No column name)"
                                    }
                                ]
                            },
                            "data": [
                                {
                                    "0": "ANKIT\\ankit"
                                }
                            ]
                        },
                        "text/html": [
                            "<table>",
                            "<tr><th>(No column name)</th></tr>",
                            "<tr><td>ANKIT\\ankit</td></tr>",
                            "</table>"
                        ]
                    }
                }
            ],
            "execution_count": 120
        },
        {
            "cell_type": "code",
            "source": [
                "-- Drop a table called.[TST' in schema 'dbo'\r\n",
                "-- Drop the table if it already exists\r\n",
                "IF OBJECT_ID('[dbo].[TST]', 'U') IS NOT NULL\r\n",
                "DROP TABLE [dbo].[TST]\r\n",
                "GO"
            ],
            "metadata": {
                "azdata_cell_guid": "75f3a329-2782-47b1-b590-28d84a908137"
            },
            "outputs": [
                {
                    "output_type": "display_data",
                    "data": {
                        "text/html": "Commands completed successfully."
                    },
                    "metadata": {}
                },
                {
                    "output_type": "display_data",
                    "data": {
                        "text/html": "Total execution time: 00:00:00.006"
                    },
                    "metadata": {}
                }
            ],
            "execution_count": 121
        },
        {
            "cell_type": "code",
            "source": [
                "-- List columns in all tables whose name is like 'TableName'\r\n",
                "SELECT \r\n",
                "    TableName = tbl.table_schema + '.' + tbl.table_name, \r\n",
                "    ColumnName = col.column_name, \r\n",
                "    ColumnDataType = col.data_type\r\n",
                "FROM INFORMATION_SCHEMA.TABLES tbl\r\n",
                "INNER JOIN INFORMATION_SCHEMA.COLUMNS col \r\n",
                "    ON col.table_name = tbl.table_name\r\n",
                "    AND col.table_schema = tbl.table_schema\r\n",
                "\r\n",
                "WHERE tbl.table_type = 'base table' and tbl.table_name like '%TableName%'\r\n",
                "GO"
            ],
            "metadata": {
                "azdata_cell_guid": "79594490-e650-43ff-87bb-ae7da2f0a95b"
            },
            "outputs": [
                {
                    "output_type": "display_data",
                    "data": {
                        "text/html": "(0 rows affected)"
                    },
                    "metadata": {}
                },
                {
                    "output_type": "display_data",
                    "data": {
                        "text/html": "Total execution time: 00:00:00.038"
                    },
                    "metadata": {}
                },
                {
                    "output_type": "execute_result",
                    "metadata": {},
                    "execution_count": 122,
                    "data": {
                        "application/vnd.dataresource+json": {
                            "schema": {
                                "fields": [
                                    {
                                        "name": "TableName"
                                    },
                                    {
                                        "name": "ColumnName"
                                    },
                                    {
                                        "name": "ColumnDataType"
                                    }
                                ]
                            },
                            "data": []
                        },
                        "text/html": [
                            "<table>",
                            "<tr><th>TableName</th><th>ColumnName</th><th>ColumnDataType</th></tr>",
                            "</table>"
                        ]
                    }
                }
            ],
            "execution_count": 122
        },
        {
            "cell_type": "code",
            "source": [
                "DECLARE @simpletxt AS VARCHAR;\r\n",
                "SET @simpletxt='hello World';\r\n",
                "SELECT TRY_CAST(@simpletxt AS INT);\r\n",
                "SELECT TRY_CAST(@simpletxt AS NVARCHAR(40));"
            ],
            "metadata": {
                "azdata_cell_guid": "e711b31c-1d9a-4459-8778-09a0b64469dc",
                "tags": [
                    "hide_input"
                ]
            },
            "outputs": [
                {
                    "output_type": "display_data",
                    "data": {
                        "text/html": "(1 row affected)"
                    },
                    "metadata": {}
                },
                {
                    "output_type": "display_data",
                    "data": {
                        "text/html": "(1 row affected)"
                    },
                    "metadata": {}
                },
                {
                    "output_type": "display_data",
                    "data": {
                        "text/html": "Total execution time: 00:00:00.007"
                    },
                    "metadata": {}
                },
                {
                    "output_type": "execute_result",
                    "metadata": {},
                    "execution_count": 123,
                    "data": {
                        "application/vnd.dataresource+json": {
                            "schema": {
                                "fields": [
                                    {
                                        "name": "(No column name)"
                                    }
                                ]
                            },
                            "data": [
                                {
                                    "0": "NULL"
                                }
                            ]
                        },
                        "text/html": [
                            "<table>",
                            "<tr><th>(No column name)</th></tr>",
                            "<tr><td>NULL</td></tr>",
                            "</table>"
                        ]
                    }
                },
                {
                    "output_type": "execute_result",
                    "metadata": {},
                    "execution_count": 123,
                    "data": {
                        "application/vnd.dataresource+json": {
                            "schema": {
                                "fields": [
                                    {
                                        "name": "(No column name)"
                                    }
                                ]
                            },
                            "data": [
                                {
                                    "0": "h"
                                }
                            ]
                        },
                        "text/html": [
                            "<table>",
                            "<tr><th>(No column name)</th></tr>",
                            "<tr><td>h</td></tr>",
                            "</table>"
                        ]
                    }
                }
            ],
            "execution_count": 123
        },
        {
            "cell_type": "code",
            "source": [
                "DECLARE @myint as int;\r\n",
                "SELECT ISNULL(@myint,3);"
            ],
            "metadata": {
                "azdata_cell_guid": "7a24b1b1-757b-4a04-96cd-cad61921fc26"
            },
            "outputs": [
                {
                    "output_type": "display_data",
                    "data": {
                        "text/html": "(1 row affected)"
                    },
                    "metadata": {}
                },
                {
                    "output_type": "display_data",
                    "data": {
                        "text/html": "Total execution time: 00:00:00.003"
                    },
                    "metadata": {}
                },
                {
                    "output_type": "execute_result",
                    "metadata": {},
                    "execution_count": 124,
                    "data": {
                        "application/vnd.dataresource+json": {
                            "schema": {
                                "fields": [
                                    {
                                        "name": "(No column name)"
                                    }
                                ]
                            },
                            "data": [
                                {
                                    "0": "3"
                                }
                            ]
                        },
                        "text/html": [
                            "<table>",
                            "<tr><th>(No column name)</th></tr>",
                            "<tr><td>3</td></tr>",
                            "</table>"
                        ]
                    }
                }
            ],
            "execution_count": 124
        },
        {
            "cell_type": "code",
            "source": [
                "SELECT GETDATE() AS todays_date;"
            ],
            "metadata": {
                "azdata_cell_guid": "9aa7593f-2f7d-4d34-bdea-0a575eb99095"
            },
            "outputs": [
                {
                    "output_type": "display_data",
                    "data": {
                        "text/html": "(1 row affected)"
                    },
                    "metadata": {}
                },
                {
                    "output_type": "display_data",
                    "data": {
                        "text/html": "Total execution time: 00:00:00.009"
                    },
                    "metadata": {}
                },
                {
                    "output_type": "execute_result",
                    "metadata": {},
                    "execution_count": 125,
                    "data": {
                        "application/vnd.dataresource+json": {
                            "schema": {
                                "fields": [
                                    {
                                        "name": "todays_date"
                                    }
                                ]
                            },
                            "data": [
                                {
                                    "0": "2021-10-21 12:22:03.987"
                                }
                            ]
                        },
                        "text/html": [
                            "<table>",
                            "<tr><th>todays_date</th></tr>",
                            "<tr><td>2021-10-21 12:22:03.987</td></tr>",
                            "</table>"
                        ]
                    }
                }
            ],
            "execution_count": 125
        },
        {
            "cell_type": "code",
            "source": [
                "DECLARE @DATE DATETIME = '2019-01-20 20:20:20'\r\n",
                "DECLARE @DATE1 DATETIME = '2020-01-20 20:10:12'\r\n",
                "SELECT FORMAT(@DATE,'U')\r\n",
                "SELECT FORMAT(@DATE,'U')"
            ],
            "metadata": {
                "azdata_cell_guid": "eadeec5f-a96f-4456-bb3e-1d117b313f59"
            },
            "outputs": [
                {
                    "output_type": "display_data",
                    "data": {
                        "text/html": "(1 row affected)"
                    },
                    "metadata": {}
                },
                {
                    "output_type": "display_data",
                    "data": {
                        "text/html": "(1 row affected)"
                    },
                    "metadata": {}
                },
                {
                    "output_type": "display_data",
                    "data": {
                        "text/html": "Total execution time: 00:00:00.010"
                    },
                    "metadata": {}
                },
                {
                    "output_type": "execute_result",
                    "metadata": {},
                    "execution_count": 126,
                    "data": {
                        "application/vnd.dataresource+json": {
                            "schema": {
                                "fields": [
                                    {
                                        "name": "(No column name)"
                                    }
                                ]
                            },
                            "data": [
                                {
                                    "0": "Sunday, January 20, 2019 2:50:20 PM"
                                }
                            ]
                        },
                        "text/html": [
                            "<table>",
                            "<tr><th>(No column name)</th></tr>",
                            "<tr><td>Sunday, January 20, 2019 2:50:20 PM</td></tr>",
                            "</table>"
                        ]
                    }
                },
                {
                    "output_type": "execute_result",
                    "metadata": {},
                    "execution_count": 126,
                    "data": {
                        "application/vnd.dataresource+json": {
                            "schema": {
                                "fields": [
                                    {
                                        "name": "(No column name)"
                                    }
                                ]
                            },
                            "data": [
                                {
                                    "0": "Sunday, January 20, 2019 2:50:20 PM"
                                }
                            ]
                        },
                        "text/html": [
                            "<table>",
                            "<tr><th>(No column name)</th></tr>",
                            "<tr><td>Sunday, January 20, 2019 2:50:20 PM</td></tr>",
                            "</table>"
                        ]
                    }
                }
            ],
            "execution_count": 126
        },
        {
            "cell_type": "code",
            "source": [
                "IF (1=1)\r\n",
                "BEGIN \r\n",
                "    PRINT('values are matched')\r\n",
                "END\r\n",
                "ELSE\r\n",
                "BEGIN\r\n",
                "    PRINT('Values are mismatched')\r\n",
                "END"
            ],
            "metadata": {
                "azdata_cell_guid": "851a653e-f0a5-4779-b412-fdb65b03eebf",
                "tags": [
                    "hide_input"
                ]
            },
            "outputs": [
                {
                    "output_type": "display_data",
                    "data": {
                        "text/html": "values are matched"
                    },
                    "metadata": {}
                },
                {
                    "output_type": "display_data",
                    "data": {
                        "text/html": "Total execution time: 00:00:00"
                    },
                    "metadata": {}
                }
            ],
            "execution_count": 127
        },
        {
            "cell_type": "code",
            "source": [
                "DECLARE @firstname VARCHAR(50);\r\n",
                "SET @firstname='John';\r\n",
                "DECLARE @lastname VARCHAR(50);\r\n",
                "SET @lastname='ankit';\r\n",
                "PRINT @firstname;\r\n",
                "PRINT @lastname;\r\n",
                "SELECT \r\n",
                "CASE\r\n",
                "    WHEN  LEFT(@firstname,1) in ('a','e','i') then 'starts with vowel'\r\n",
                "    WHEN  LEFT(@lastname,1) in ('a','e','i') then 'starts with vowel'\r\n",
                "    ELSE 'no name with vowel'\r\n",
                "    END;\r\n",
                "\r\n",
                ""
            ],
            "metadata": {
                "azdata_cell_guid": "dafe6362-0a0a-4bd9-b8b4-a7fa27f00783",
                "tags": []
            },
            "outputs": [
                {
                    "output_type": "display_data",
                    "data": {
                        "text/html": "John"
                    },
                    "metadata": {}
                },
                {
                    "output_type": "display_data",
                    "data": {
                        "text/html": "ankit"
                    },
                    "metadata": {}
                },
                {
                    "output_type": "display_data",
                    "data": {
                        "text/html": "(1 row affected)"
                    },
                    "metadata": {}
                },
                {
                    "output_type": "display_data",
                    "data": {
                        "text/html": "Total execution time: 00:00:00.003"
                    },
                    "metadata": {}
                },
                {
                    "output_type": "execute_result",
                    "metadata": {},
                    "execution_count": 128,
                    "data": {
                        "application/vnd.dataresource+json": {
                            "schema": {
                                "fields": [
                                    {
                                        "name": "(No column name)"
                                    }
                                ]
                            },
                            "data": [
                                {
                                    "0": "starts with vowel"
                                }
                            ]
                        },
                        "text/html": [
                            "<table>",
                            "<tr><th>(No column name)</th></tr>",
                            "<tr><td>starts with vowel</td></tr>",
                            "</table>"
                        ]
                    }
                }
            ],
            "execution_count": 128
        },
        {
            "cell_type": "code",
            "source": [
                ""
            ],
            "metadata": {
                "azdata_cell_guid": "5c6e273a-24e6-4202-81c2-004f708c2bc9"
            },
            "outputs": [
                {
                    "output_type": "display_data",
                    "data": {
                        "text/html": "Commands completed successfully."
                    },
                    "metadata": {}
                },
                {
                    "output_type": "display_data",
                    "data": {
                        "text/html": "Total execution time: 00:00:00"
                    },
                    "metadata": {}
                }
            ],
            "execution_count": 129
        }
    ]
}